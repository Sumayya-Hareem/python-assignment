{
 "cells": [
  {
   "cell_type": "code",
   "execution_count": 2,
   "metadata": {},
   "outputs": [
    {
     "name": "stdout",
     "output_type": "stream",
     "text": [
      "First number is 23\n",
      "Second number is 24\n",
      "Sum of both numbers is 47\n"
     ]
    }
   ],
   "source": [
    "num1=int(input(\"Enter first number\"))\n",
    "print(\"First number is\",num1)\n",
    "num2=int(input(\"Enter second number\"))\n",
    "print(\"Second number is\",num2)\n",
    "sum=num1+num2\n",
    "print(\"Sum of both numbers is\",sum)\n"
   ]
  },
  {
   "cell_type": "code",
   "execution_count": 9,
   "metadata": {},
   "outputs": [
    {
     "name": "stdout",
     "output_type": "stream",
     "text": [
      "What is your favorite animal? cow\n",
      "My favourite animal is also cow !\n"
     ]
    }
   ],
   "source": [
    "animal=input(\"Enter your favorite animal\")\n",
    "print(\"What is your favorite animal?\",animal)\n",
    "print(\"My favourite animal is also\",animal,\"!\")"
   ]
  },
  {
   "cell_type": "code",
   "execution_count": null,
   "metadata": {},
   "outputs": [],
   "source": []
  }
 ],
 "metadata": {
  "kernelspec": {
   "display_name": "Python 3",
   "language": "python",
   "name": "python3"
  },
  "language_info": {
   "codemirror_mode": {
    "name": "ipython",
    "version": 3
   },
   "file_extension": ".py",
   "mimetype": "text/x-python",
   "name": "python",
   "nbconvert_exporter": "python",
   "pygments_lexer": "ipython3",
   "version": "3.12.5"
  }
 },
 "nbformat": 4,
 "nbformat_minor": 2
}
